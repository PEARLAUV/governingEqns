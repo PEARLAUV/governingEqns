{
 "cells": [
  {
   "cell_type": "markdown",
   "metadata": {},
   "source": [
    "# PEARL Governing Equations\n",
    "\n",
    "## Overview\n",
    "* [Power](#Power)\n",
    "* [Propulsion](#Propulsion)\n",
    "* [Structure](#Structure)\n",
    "* [Communication](#Communication)\n",
    "* [Computing](#Computing)\n",
    "* [Navigation](#Navigation)\n",
    "\n",
    "## Power\n",
    "\n",
    "Four operations:\n",
    "1. [platform is recharging](#Recharging)\n",
    "2. [platform is servicing an AUV](#Servicing)\n",
    "3. [platform is transmitting data to satellite](#Transmitting)\n",
    "4. [platform is moving](#Moving)\n",
    "\n",
    "In the following analysis, all operations are considered independent (platform can only be doing one of the four), however operations could be occuring at the same time. For instance, the platform itself could be recharging while servicing an AUV and transmitting data to a satellite (operations 1, 2, and 3). Depending on the sea state, the platform could also be moving while doing operations 1-3.\n",
    "\n",
    "OPM?"
   ]
  },
  {
   "cell_type": "markdown",
   "metadata": {},
   "source": [
    "### Recharging\n",
    "Power draw when platform, PEARL, is recharging, will be\n",
    "\n",
    "\\begin{equation}\n",
    "P_{draw,recharge} = P_{hotel} - P_{recharge}\n",
    "\\end{equation}\n",
    "\n",
    "where\n",
    "* $P_{hotel}$ = is the nominal power draw from all sensors onboard the platform to keep it active (hotel load) [W]\n",
    "* $P_{recharge}$ = is the energy harnessed recharging the platform [W]\n",
    "\n",
    "So long as the platform can harness more energy than it uses, this value will be negative, meaning the power draw is negative and the platform is actually recharging itself and storing energy.\n",
    "\n",
    "Assuming solar power is being used to recharge the platform, the power to recharge can be determined from considering the end-of-life performance of the solar panels\n",
    "\n",
    "\\begin{equation}\n",
    "P_{recharge} = \\eta_s \\phi_s \\cos \\left(\\bar{\\theta}\\right) I_d (1-D)^L A_s\n",
    "\\end{equation}\n",
    "\n",
    "where \n",
    "* $\\eta_s$ = the solar cell efficiency, nominally 27%, ranging from 15-44% (note that increasing solar cell efficiency increases cost per cell and degradation will change according to new solar cell material)\n",
    "* $\\phi_s$ = incident solar irradiation, determined by the location [w/m$^2$]\n",
    "* $\\bar{\\theta}$ = average solar angle (from the vertical) over a day, nominally 55$^{\\circ}$, ranging from 50.5-68$^{\\circ}$. The nominal is a fixed, flat solar panel. It changes if the solar panel is slanted (requires orientation control) or gimbaled (requires solar array drive)\n",
    "* $D$ = solar cell degradation, nominally set to 1%/year, ranging from 0.1-2%\\yr, depending on solar cell material.\n",
    "* $I_d$ = inherent degradation, an efficiency parameter that describes the fraction of solar panel area that is actually solar cells, taken to be between 0.85-0.9. Value may also come from actual solar panel and use actual cell area from manufacturer. This term accounts for reduction in solar cell efficiency when you integrate it into an array. So could be due to the fact that the total panel area cannot be covered 100% in solar cells because of the interconnects and spacing between them. Can also use that term to account for if you expect any shadowing of cells by other components on the platformo for if the solar cells will be operating at a temperature different than what the efficiency is quoted at. According to SMAD for spacecraft it’s common to use $I_d$ = 0.72 (or ranging between 0.49 and 0.88). For this analysis, we neglect any shadowing issues for the servicing platform as well as efficiency degradations due to temperature (which are a bigger issue in space).\n",
    "* $L_s$ = lifetime for solar panels, nominally 10 years, ranges from 1-25 years [yrs]\n",
    "* $A_s$ = solar panel area [m$^2$]\n",
    "\n",
    "Then the total energy collected to recharge the platform's batteries via solar power is\n",
    "\\begin{equation}\n",
    "E_{recharge} = P_{recharge}t_r\n",
    "\\end{equation}\n",
    "\n",
    "where\n",
    "* $t_r$ = time the platform is recharging, nominally taken to be number of daylight hours [hrs]\n",
    "* making the assumption that the average solar angle over the day does not deviate much from $\\bar{\\theta}$ (to keep things simplistic for now)"
   ]
  },
  {
   "cell_type": "code",
   "execution_count": 135,
   "metadata": {},
   "outputs": [],
   "source": [
    "import numpy as np\n",
    "P_hotel = 50 #Watts\n",
    "eta_s_vec = np.linspace(0.15,0.44,1000)\n",
    "phi_s = 800 # W/m^2 in Massachusetts ?\n",
    "theta_bar = 55 # deg\n",
    "D = 0.005  # degradation in decimal of percent per year\n",
    "I_d = 0.9 # inherent degradation, efficiency parameter that describes the fraction of solar panel area that is actually solar cells\n",
    "L_s = 10 # lifetime in years\n",
    "t_r = 12 # hours the platform is recharging (taken to be number of daylight hours)"
   ]
  },
  {
   "cell_type": "markdown",
   "metadata": {},
   "source": [
    "### Servicing\n",
    "Power draw when platform, PEARL, is servicing an AUV (recharging AUV and downloading its data) will be\n",
    "\n",
    "\\begin{equation}\n",
    "P_{draw,service} = P_{hotel} + P_{service}\n",
    "\\end{equation}\n",
    "\n",
    "where\n",
    "* $P_{service}$ = is the power draw to recharge the AUV [W] and is given by\n",
    "\\begin{equation}\n",
    "P_{service} = \\frac{E_{AUV}}{t_{service}}\\gamma\n",
    "\\end{equation}\n",
    "\n",
    "where\n",
    "* $E_{AUV}$ = AUV battery capacity [Wh]\n",
    "* $t_{service}$ = duration of time that AUV is connected to platform recharging and offloading data (not necessary how long an AUV takes to be serviced on the platform, just the time that the platform will be in \"service\" mode) [hrs]\n",
    "* $\\gamma$ = AUV serviced per day (0.2 means 1 AUV every 5 hours). Nominally taken to be 0.2 AUV/day, ranging from 0.03 to 1 AUV/day (i.e. monthly to daily). [AUVs/hr]"
   ]
  },
  {
   "cell_type": "code",
   "execution_count": 106,
   "metadata": {},
   "outputs": [],
   "source": [
    "E_AUV = 1900 # Wh for Bluefin-9\n",
    "t_service = 12 # hours\n",
    "gamma = np.array([2, 3, 4,]) # AUVs per day\n",
    "P_service = E_AUV / t_service * gamma"
   ]
  },
  {
   "cell_type": "markdown",
   "metadata": {},
   "source": [
    "### Transmitting\n",
    "Power draw to transmit data will be\n",
    "\n",
    "\\begin{equation}\n",
    "P_{draw,comms} = P_{hotel} + P_{comms}\n",
    "\\end{equation}\n",
    "\n",
    "where\n",
    "* $P_{hotel}$ = is the nominal power draw from all sensors onboard the platform to keep it active (hotel load) [W]\n",
    "* $P_{comms}$ = is the power required to transmit data to a satellite [W]"
   ]
  },
  {
   "cell_type": "markdown",
   "metadata": {},
   "source": [
    "### Moving\n",
    "Power draw to move platform will be\n",
    "\n",
    "\\begin{equation}\n",
    "P_{draw,move} = P_{hotel} + P_{move}\n",
    "\\end{equation}\n",
    "\n",
    "where\n",
    "* $P_{hotel}$ = is the nominal power draw from all sensors onboard the platform to keep it active (hotel load) [W]\n",
    "* $P_{move}$ = is the power required to move the platform, and is determined from the propulsion system [W] "
   ]
  },
  {
   "cell_type": "markdown",
   "metadata": {},
   "source": [
    "### Sizing solar panels\n",
    "The size of the solar panels can be determined from the daily energy needs of the platform, assuming that all energy needs are met by solar energy\n",
    "\n",
    "\\begin{eqnarray}\n",
    "E_{req} &=& E_{hotel} + E_{service} + E_{comms} + E_{move} \\\\\n",
    "E_{recharge} = E_{req} &=& P_{hotel}t_{mission} + P_{service}t_{service} + P_{comms}t_c + P_{move}t_m \\\\\n",
    "P_{recharge}t_r &=& P_{hotel}t_{mission} + E_{AUV}\\gamma + P_{data}t_d + P_{move}t_m \\\\\n",
    "\\left( \\eta_s \\phi_s \\cos \\left(\\bar{\\theta}\\right) I_d (1-D)^L A_s \\right) t_r &=&  P_{hotel}t_{mission} + E_{AUV}\\gamma + P_{data}t_d + P_{move}t_m \\\\\n",
    "\\Rightarrow A_s &=& \\frac{\\left( P_{hotel}t_{mission} + E_{AUV}\\gamma + P_{data}t_d + P_{move}t_m \\right)}{\\left( \\eta_s \\phi_s \\cos \\left(\\bar{\\theta}\\right) I_d (1-D)^{L_s} t_r \\right)}\n",
    "\\end{eqnarray}\n",
    "\n",
    "where\n",
    "* $E_{hotel}$ = the total energy required to power the sensors onboard the platform to keep it active (hotel load) throughout the duration of the mission [Ws]\n",
    "* $E_{service}$ = the total energy required to service the AUVs during the mission [Ws]\n",
    "* $E_{comms}$ = the total energy required to transmit data during the mission [Ws]\n",
    "* $E_{move}$ = the total energy required to move the platform during the mission [Ws]\n",
    "* $t_{mission}$ = total duration of the mission of the platform, taken to be 1 day [s]\n",
    "* $t_c$ = total time platform is transmitting data per mission [s]\n",
    "* $t_m$ = total time platform is moving per mission [s]"
   ]
  },
  {
   "cell_type": "code",
   "execution_count": 139,
   "metadata": {},
   "outputs": [
    {
     "data": {
      "image/png": "[encoded data removed]",
      "text/plain": [
       "<Figure size 432x288 with 1 Axes>"
      ]
     },
     "metadata": {
      "needs_background": "light"
     },
     "output_type": "display_data"
    },
    {
     "name": "stdout",
     "output_type": "stream",
     "text": [
      "61159680.00000002\n"
     ]
    }
   ],
   "source": [
    "from matplotlib import pyplot as plt \n",
    "t_mission = 24 #hours \n",
    "\n",
    "# will be determined from communication section\n",
    "# will feedback via MDO, but for now put back in by hand\n",
    "P_data = 0 # W\n",
    "t_d = 0 # hours\n",
    "\n",
    "# will be determined from propulsion section\n",
    "# will feedback via MDO, but for now put back in by hand\n",
    "P_move = 6824 # W\n",
    "t_m = 0.05*t_mission # assuming moving only 5% of the mission\n",
    "\n",
    "numer = P_hotel * t_mission + P_service * t_service + P_data * t_d + P_move * t_m\n",
    "denom = eta_s_vec*phi_s*np.cos(np.deg2rad((theta_bar)))*I_d*((1-D)**L_s)*t_r\n",
    "\n",
    "fig = plt.figure()\n",
    "ax = plt.subplot(111)\n",
    "for g in range(0,len(gamma)):\n",
    "    A_s_vec = numer[g]/denom\n",
    "    ax.plot(eta_s_vec,A_s_vec,label= str(gamma[g])+\" AUVs/day\")\n",
    "\n",
    "plt.xlabel('Solar Cell Efficiency $\\eta_s$')\n",
    "plt.ylabel('Required Solar Panel Area, $A_s$ [m$^2$]')\n",
    "ax.set_xlim([0.15,0.45])\n",
    "ax.legend()\n",
    "plt.show()\n",
    "\n",
    "A_s = max(A_s_vec) # take the maximum area for now, which occurs for 4 AUVs/day\n",
    "eta_s = min(eta_s_vec) # take the minimum efficiency for now\n",
    "\n",
    "P_recharge = eta_s*phi_s*np.cos(np.deg2rad((theta_bar)))*I_d*((1-D)**L_s)*A_s # W\n",
    "E_req = P_recharge*t_r*60*60 # multiplying by 3600 because t_r in hours\n",
    "print(E_req) # Ws, a.k.a Joules"
   ]
  },
  {
   "cell_type": "markdown",
   "metadata": {},
   "source": [
    "## Propulsion\n",
    "In order for the platform to move, it needs to overcome drag. The energy required to overcome drag is\n",
    "\n",
    "\\begin{equation}\n",
    "E_{move} = \\frac{\\rho C_d S_w V^3}{2 \\eta_m}t_m\n",
    "\\end{equation}\n",
    "\n",
    "where\n",
    "* $E_{move}$ = energy required for propulsion to overcome drag [Ws]\n",
    "* $\\rho$ = density of water [kg/m$^3$]\n",
    "* $C_d$ = drag coefficient \n",
    "* $S_w$ = wetted surface area of platform [m$^2$]\n",
    "* $V$ = velocity of platform [m/s]\n",
    "* $\\eta_m$ = propulsion efficiency\n",
    "* $t_m$ = time of motion [s]\n",
    "\n",
    "The power to move the platform is thus given by\n",
    "\\begin{equation}\n",
    "P_{move} = \\frac{\\rho C_d S_w V^3}{2 \\eta_m}\n",
    "\\end{equation}"
   ]
  },
  {
   "cell_type": "code",
   "execution_count": 128,
   "metadata": {},
   "outputs": [],
   "source": [
    "rho = 1023.6 # density of seawater [kg/m^3]\n",
    "C_d = 1 # estimate drag coefficient (a square flat plate at 90 deg to the flow is 1.17)\n",
    "S_w = 10 # will technically need to determine from A_s and other structural needs... assume something for now\n",
    "V = 1 # [m/s]\n",
    "eta_m = 0.75 # estimated, need to determine from motors?\n",
    "\n",
    "P_move = rho*C_d*S_w*V**3/(2*eta_m)"
   ]
  },
  {
   "cell_type": "markdown",
   "metadata": {},
   "source": [
    "## Structure\n",
    "The structure of the platform will be determined by a number of different driving factors including\n",
    "* [platform mass](#Mass)\n",
    "* [platform stability](#Stability)\n",
    "* [platform hydrodynamic response](#Hydrodynamic)\n",
    "\n",
    "### Mass\n",
    "Total mass of the platform will be given by \n",
    "\n",
    "\\begin{equation}\n",
    "m_{platform} = m_{batteries} + m_{solar} + m_{comms} + m_{propulsion} + m_{structure}\n",
    "\\end{equation}\n",
    "\n",
    "where\n",
    "* $m_{batteries}$ = the mass of the batteries on board the platform\n",
    "* $m_{solar}$ = the mass of the solar panels on board the platform\n",
    "* $m_{comms}$ = the mass of the comms system used to transmit data to the satellite constellations\n",
    "* $m_{propulsion}$ = the mass of the propulsion system on the platform\n",
    "* $m_{structure}$ = the mass of the structure of the platform\n",
    "\n",
    "The mass of the batteries are given by\n",
    "\\begin{equation}\n",
    "m_{batteries} = frac{E_{battery}}{\\mu_{battery}}\n",
    "\\end{equation}\n",
    "\n",
    "where\n",
    "* $E_{battery}$ = the power storage capacity of the battery [Wh]\n",
    "* $\\mu_{battery}$ = the battery specific energy (depends on the battery type selected) [Wh/kg]\n",
    "\n",
    "The power storage capacity of the battery onboard the platform is\n",
    "\\begin{equation}\n",
    "E_{battery} = \\frac{E_{req}}{\\left(DOD\\right) N \\eta_{battery}}\n",
    "\\end{equation}\n",
    "\n",
    "where \n",
    "* $E_{req}$ = the energy the platform requires daily to meet the power needs of the hotel load, the propulsion system, the data transmitting system, and the AUV servicing system. [Wh]\n",
    "* $DOD$ = the depth of discharge of the battery, nominally taken to be 70% and can range from 50-90%. $DOD$ depends on the lifetime of the battery and battery type selected, which affects the battery specific volume, mass, and cost.\n",
    "* $\\eta_{battery}$ = the transmission efficiency between the battery and the load\n",
    "* $N$ = number of batteries\n",
    "\n",
    "The volme of the batteries on board is given by\n",
    "\\begin{equation}\n",
    "V = E_{battery} \\nu_{battery}\n",
    "\\end{equation}\n",
    "\n",
    "where\n",
    "* $\\nu_{battery}$ = the battery energy density (depends on the battery type selected)"
   ]
  },
  {
   "cell_type": "code",
   "execution_count": 168,
   "metadata": {},
   "outputs": [
    {
     "data": {
      "image/png": "[encoded data removed]",
      "text/plain": [
       "<Figure size 432x288 with 1 Axes>"
      ]
     },
     "metadata": {
      "needs_background": "light"
     },
     "output_type": "display_data"
    }
   ],
   "source": [
    "E_AUV_vec = np.linspace(1900, 13500, 1000) # in Wh, AUV energy demand per recharge\n",
    "mu_battery = np.array([30, 100, 200]) # in Wh/kg for NiCd, NiMH, Li-ion\n",
    "DOD = np.array([0.4, 0.55, 0.7]) # depth of discharge of the battery\n",
    "eta_battery = 0.85 # transmission efficiency between battery and the load\n",
    "N = 1 # number of batteries\n",
    "\n",
    "fig = plt.figure()\n",
    "ax = plt.subplot(111)\n",
    "for jj in range(0,len(mu_battery)):\n",
    "    E_battery = (E_AUV_vec+P_hotel*t_r)/(DOD[jj]*N*eta_battery)\n",
    "    m_battery = E_battery/mu_battery[jj]\n",
    "    ax.plot(E_AUV_vec,m_battery)\n",
    "\n",
    "plt.xlabel('Energy Demand per Recharged AUV, $E_{AUV}$ [Wh]')\n",
    "plt.ylabel('Mass of Servicing Platform Batteries, $m_{battery}$ [kg]')\n",
    "ax.legend(['NiCd, 30 Wh/kg','NiMH, 100 Wh/kg', 'Li-ion, 200 Wh/kg'])\n",
    "plt.show()"
   ]
  },
  {
   "cell_type": "markdown",
   "metadata": {},
   "source": [
    "### Stability\n",
    "\n",
    "\n",
    "![Image of Stability](img/stability.png)\n",
    "\n",
    "\n",
    "\n",
    "where\n",
    "* G = Centre of gravity, an imaginary point in the exact middle of a weight where the entire weight may be considered to act. (The force of) weight always acts vertically downwards.\n",
    "* B = the center of buoyancy, an imaginary point in the exact middle of the volume of displaced water where the entire buoyancy may be considered to act. (The force of) buoyancy always acts vertically upwards.\n",
    "* M = the metacenter, a point in space where the vertical line upwards through the centre of buoyancy (B) of the ‘inclined’ vessel cuts through the vertical line upwards through the centre of buoyancy (B) of the ‘upright’ vessel.\n",
    "* GM = the metacentric height, the vertical distance between the Centre of Gravity (G) and the Metacentre (M). If M is above G the vessel will want to stay upright and if G is above M the vessel will want to capsize. i.e. GM positive is Stable, GM negative is Unstable.\\\n",
    "* (+GZ) = the righting lever, or (-GZ) = the overturning lever: the (horizontal) distance between the two (vertical) ‘lines of action’ of the buoyancy force (upwards), and the gravity force (downwards). The size of GZ is the measure of how stable or unstable the vessel is at any particular angle of heel. For small angles of heel (less than 15°), the ‘righting’ or ‘overturning lever’ GZ = GM x sine (where is the angle of heel, in degrees).\n",
    "* K = keel of the vessel\n",
    "\n",
    "\n",
    "#### Initial stability\n",
    "To be adequately stable, the metacentric height (GM) of the loaded vessel, floating upright in still water, is required to be above a minimum value.\n",
    "\n",
    "\\begin{equation}\n",
    "GM = KB + BM - KG\n",
    "\\end{equation}\n",
    "\n",
    "where\n",
    "* BM = $\\frac{I}{V}$ where $I$ = inertia of water plane area, $V$ is volume of displacement\n",
    "\n",
    "From this, a number of conditions are required for initial stability:\n",
    "* If M above G $\\rightarrow$ stable\n",
    "* If GM > 0 $\\rightarrow$ stable\n",
    "* If GM < 0 $\\rightarrow$ unstable\n",
    "\n",
    "#### Static stability\n",
    "\n",
    "First, the force of buoyancy must equal the force of the vessel's weight in order for it to float. Secondly, for stability to be adequate, the righting lever (GZ) resulting from the heeling of a loaded barge is required to be greater than zero (positive) for all angles of heel up to a certain minimum heel angle.\n",
    "\n",
    "Thus, we require that \n",
    "\\begin{equation}\n",
    "F_B = F_W\n",
    "\\end{equation}\n",
    "\n",
    "where\n",
    "* $F_B$ = the bouyancy force on the platform [N]\n",
    "* $F_W$ = the weight of the platform = $m_{platform}g$ [N]\n",
    "\n",
    "and\n",
    "\\begin{equation}\n",
    "GZ > 0\n",
    "\\end{equation}\n",
    "\n",
    "#### Dynamic stability\n",
    "The area under the GZ curve (and above the horizontal (0) axis), is a product of metres and degrees, and is also an important measure of the stability of a vessel. The larger this area the greater the capacity of the vessel to right itself as it rolls from side to side. This is known as righting energy.\n",
    "\n",
    "The size of this area is determined by the initial GM (which gives the starting slope of the curve), the heel angle at which maximum GZ occurs (which gives the height of the curve) and the range of heel angles for which GZ is positive (which gives the length of the curve)."
   ]
  },
  {
   "cell_type": "markdown",
   "metadata": {},
   "source": [
    "### Hydrodynamic\n",
    "Ocean waves mostly between 0.04-0.15 Hz frequencies (from Pierson-Moskowitz spectrum).\n",
    "\n",
    "Excitation forces:\n",
    "\\begin{equation}\n",
    "X_j(t) = \\Re\\{\\mathbb{X}_j(\\omega)e^{i \\omega t}\\}\n",
    "\\end{equation}\n",
    "\n",
    "Response Amplitude Operator\n",
    "\\begin{equation}\n",
    "\\text{RAO}_j(\\omega) = \\left| \\frac{\\mathbb{E}_j(\\omega)}{A/R^n} \\right|\n",
    "\\end{equation}\n",
    "\n",
    "where\n",
    "* $R^n$ = radius of structure"
   ]
  },
  {
   "cell_type": "markdown",
   "metadata": {},
   "source": [
    "## Communication\n",
    "Based off of link budget\n",
    "\n",
    "Need to check if this is the correct form to use - instead logarithmic form?\n",
    "\\begin{equation}\n",
    "\\frac{E_b}{N_o} = \\frac{P L_l G_t L_s L_a G_r}{k T_s R}\n",
    "\\end{equation}\n",
    "\n",
    "where\n",
    "* $E_b$ = energy per bit [Ws]\n",
    "* $N_o$ =noise spectral density [W/Hz]\n",
    "* $P$ = transmitter power [W]\n",
    "* $L_l$ = transmitter to antenna line loss [dB]\n",
    "* $G_t$ = transmitter antenna line gain [dB] \n",
    "* $L_s$ = space loss [dB]\n",
    "* $L_a$ = transmission path loss [dB] \n",
    "* $G_r$ = receiver antenna gain [dB]\n",
    "* $k$ = Boltzmann's constant [J/K]\n",
    "* $T_s$ = system noise temperature [dBK]\n",
    "* $R$ = data rate [bits/sec = bps]\n",
    "\n",
    "\n",
    "Space loss due to transmission distance\n",
    "\n",
    "\\begin{equation}\n",
    "L_s = \\left( \\frac{\\lambda}{4*\\pi*S} \\right)^2\n",
    "\\end{equation}\n",
    "\n",
    "where\n",
    "* $\\lambda$ = transmitting wavelength\n",
    "* $S$ = distance [km]\n",
    "\n",
    "and \n",
    "\\begin{equation}\n",
    "f = \\lambda c\n",
    "\\end{equation}\n",
    "\n",
    "where\n",
    "* $f$ = carrier frequency [Hz]\n",
    "* $c$ = speed of light in a vacuum [m/s]"
   ]
  },
  {
   "cell_type": "markdown",
   "metadata": {},
   "source": [
    "## Computing"
   ]
  },
  {
   "cell_type": "markdown",
   "metadata": {},
   "source": [
    "## Navigation"
   ]
  },
  {
   "cell_type": "code",
   "execution_count": null,
   "metadata": {},
   "outputs": [],
   "source": []
  }
 ],
 "metadata": {
  "kernelspec": {
   "display_name": "Python 3",
   "language": "python",
   "name": "python3"
  },
  "language_info": {
   "codemirror_mode": {
    "name": "ipython",
    "version": 3
   },
   "file_extension": ".py",
   "mimetype": "text/x-python",
   "name": "python",
   "nbconvert_exporter": "python",
   "pygments_lexer": "ipython3",
   "version": "3.7.4"
  }
 },
 "nbformat": 4,
 "nbformat_minor": 2
}
